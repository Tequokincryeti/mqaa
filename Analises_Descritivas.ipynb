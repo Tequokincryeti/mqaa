{
 "cells": [
  {
   "cell_type": "code",
   "execution_count": 47,
   "id": "37733c06",
   "metadata": {},
   "outputs": [],
   "source": [
    "import matplotlib.pyplot as plt\n",
    "%matplotlib inline\n",
    "import pandas as pd\n",
    "import numpy as np\n",
    "import seaborn as sns\n",
    "from pywaffle import Waffle\n",
    "import math"
   ]
  },
  {
   "cell_type": "code",
   "execution_count": 2,
   "id": "680178bc",
   "metadata": {},
   "outputs": [],
   "source": [
    "base = pd.read_csv('Base mesclada filtrada.csv')"
   ]
  },
  {
   "cell_type": "code",
   "execution_count": 3,
   "id": "ab7839ce",
   "metadata": {},
   "outputs": [],
   "source": [
    "base.drop(labels=['YrSold','YearBuilt','Unnamed: 0'], axis=1, inplace=True)"
   ]
  },
  {
   "cell_type": "code",
   "execution_count": 4,
   "id": "d1a2dbb3",
   "metadata": {},
   "outputs": [
    {
     "data": {
      "text/html": [
       "<div>\n",
       "<style scoped>\n",
       "    .dataframe tbody tr th:only-of-type {\n",
       "        vertical-align: middle;\n",
       "    }\n",
       "\n",
       "    .dataframe tbody tr th {\n",
       "        vertical-align: top;\n",
       "    }\n",
       "\n",
       "    .dataframe thead th {\n",
       "        text-align: right;\n",
       "    }\n",
       "</style>\n",
       "<table border=\"1\" class=\"dataframe\">\n",
       "  <thead>\n",
       "    <tr style=\"text-align: right;\">\n",
       "      <th></th>\n",
       "      <th>SalePrice</th>\n",
       "      <th>MSZoning</th>\n",
       "      <th>HeatingQC</th>\n",
       "      <th>BedroomAbvGr</th>\n",
       "      <th>GarageArea</th>\n",
       "      <th>YrSold - YearBuilt</th>\n",
       "    </tr>\n",
       "  </thead>\n",
       "  <tbody>\n",
       "    <tr>\n",
       "      <th>0</th>\n",
       "      <td>208500.0</td>\n",
       "      <td>RL</td>\n",
       "      <td>Ex</td>\n",
       "      <td>3</td>\n",
       "      <td>548.0</td>\n",
       "      <td>5</td>\n",
       "    </tr>\n",
       "    <tr>\n",
       "      <th>1</th>\n",
       "      <td>181500.0</td>\n",
       "      <td>RL</td>\n",
       "      <td>Ex</td>\n",
       "      <td>3</td>\n",
       "      <td>460.0</td>\n",
       "      <td>31</td>\n",
       "    </tr>\n",
       "    <tr>\n",
       "      <th>2</th>\n",
       "      <td>223500.0</td>\n",
       "      <td>RL</td>\n",
       "      <td>Ex</td>\n",
       "      <td>3</td>\n",
       "      <td>608.0</td>\n",
       "      <td>7</td>\n",
       "    </tr>\n",
       "    <tr>\n",
       "      <th>3</th>\n",
       "      <td>140000.0</td>\n",
       "      <td>RL</td>\n",
       "      <td>Gd</td>\n",
       "      <td>3</td>\n",
       "      <td>642.0</td>\n",
       "      <td>91</td>\n",
       "    </tr>\n",
       "    <tr>\n",
       "      <th>4</th>\n",
       "      <td>250000.0</td>\n",
       "      <td>RL</td>\n",
       "      <td>Ex</td>\n",
       "      <td>4</td>\n",
       "      <td>836.0</td>\n",
       "      <td>8</td>\n",
       "    </tr>\n",
       "  </tbody>\n",
       "</table>\n",
       "</div>"
      ],
      "text/plain": [
       "   SalePrice MSZoning HeatingQC  BedroomAbvGr  GarageArea  YrSold - YearBuilt\n",
       "0   208500.0       RL        Ex             3       548.0                   5\n",
       "1   181500.0       RL        Ex             3       460.0                  31\n",
       "2   223500.0       RL        Ex             3       608.0                   7\n",
       "3   140000.0       RL        Gd             3       642.0                  91\n",
       "4   250000.0       RL        Ex             4       836.0                   8"
      ]
     },
     "execution_count": 4,
     "metadata": {},
     "output_type": "execute_result"
    }
   ],
   "source": [
    "base.head()"
   ]
  },
  {
   "cell_type": "code",
   "execution_count": 5,
   "id": "352df118",
   "metadata": {},
   "outputs": [
    {
     "data": {
      "text/plain": [
       "(2919, 6)"
      ]
     },
     "execution_count": 5,
     "metadata": {},
     "output_type": "execute_result"
    }
   ],
   "source": [
    "base.shape"
   ]
  },
  {
   "cell_type": "code",
   "execution_count": 6,
   "id": "3f0286a4",
   "metadata": {},
   "outputs": [
    {
     "data": {
      "text/html": [
       "<div>\n",
       "<style scoped>\n",
       "    .dataframe tbody tr th:only-of-type {\n",
       "        vertical-align: middle;\n",
       "    }\n",
       "\n",
       "    .dataframe tbody tr th {\n",
       "        vertical-align: top;\n",
       "    }\n",
       "\n",
       "    .dataframe thead th {\n",
       "        text-align: right;\n",
       "    }\n",
       "</style>\n",
       "<table border=\"1\" class=\"dataframe\">\n",
       "  <thead>\n",
       "    <tr style=\"text-align: right;\">\n",
       "      <th></th>\n",
       "      <th>SalePrice</th>\n",
       "      <th>BedroomAbvGr</th>\n",
       "      <th>GarageArea</th>\n",
       "      <th>YrSold - YearBuilt</th>\n",
       "    </tr>\n",
       "  </thead>\n",
       "  <tbody>\n",
       "    <tr>\n",
       "      <th>SalePrice</th>\n",
       "      <td>1.000000</td>\n",
       "      <td>0.229611</td>\n",
       "      <td>0.464809</td>\n",
       "      <td>-0.363226</td>\n",
       "    </tr>\n",
       "    <tr>\n",
       "      <th>BedroomAbvGr</th>\n",
       "      <td>0.229611</td>\n",
       "      <td>1.000000</td>\n",
       "      <td>0.073912</td>\n",
       "      <td>0.052136</td>\n",
       "    </tr>\n",
       "    <tr>\n",
       "      <th>GarageArea</th>\n",
       "      <td>0.464809</td>\n",
       "      <td>0.073912</td>\n",
       "      <td>1.000000</td>\n",
       "      <td>-0.480602</td>\n",
       "    </tr>\n",
       "    <tr>\n",
       "      <th>YrSold - YearBuilt</th>\n",
       "      <td>-0.363226</td>\n",
       "      <td>0.052136</td>\n",
       "      <td>-0.480602</td>\n",
       "      <td>1.000000</td>\n",
       "    </tr>\n",
       "  </tbody>\n",
       "</table>\n",
       "</div>"
      ],
      "text/plain": [
       "                    SalePrice  BedroomAbvGr  GarageArea  YrSold - YearBuilt\n",
       "SalePrice            1.000000      0.229611    0.464809           -0.363226\n",
       "BedroomAbvGr         0.229611      1.000000    0.073912            0.052136\n",
       "GarageArea           0.464809      0.073912    1.000000           -0.480602\n",
       "YrSold - YearBuilt  -0.363226      0.052136   -0.480602            1.000000"
      ]
     },
     "execution_count": 6,
     "metadata": {},
     "output_type": "execute_result"
    }
   ],
   "source": [
    "base.corr()"
   ]
  },
  {
   "cell_type": "code",
   "execution_count": 21,
   "id": "4d230385",
   "metadata": {},
   "outputs": [
    {
     "data": {
      "image/png": "[encoded data removed]",
      "text/plain": [
       "<Figure size 432x288 with 1 Axes>"
      ]
     },
     "metadata": {
      "needs_background": "light"
     },
     "output_type": "display_data"
    }
   ],
   "source": [
    "base['MSZoning'].value_counts().to_frame().plot(kind='bar', legend=None)\n",
    "plt.title('Distribuição dos dados MSZoning')\n",
    "plt.ylabel('Ocorrências')\n",
    "plt.xlabel('Classificação geral de zoneamento da venda')\n",
    "plt.show()"
   ]
  },
  {
   "cell_type": "code",
   "execution_count": 23,
   "id": "57abdf31",
   "metadata": {},
   "outputs": [
    {
     "data": {
      "image/png": "[encoded data removed]",
      "text/plain": [
       "<Figure size 432x288 with 1 Axes>"
      ]
     },
     "metadata": {
      "needs_background": "light"
     },
     "output_type": "display_data"
    }
   ],
   "source": [
    "base['HeatingQC'].value_counts().to_frame().plot(kind='bar', legend=None)\n",
    "plt.title('Distribuição dos dados HeatingQC')\n",
    "plt.ylabel('Ocorrências')\n",
    "plt.xlabel('Qualidade e condição do aquecimento')\n",
    "plt.show()"
   ]
  },
  {
   "cell_type": "code",
   "execution_count": 43,
   "id": "0bdcb95c",
   "metadata": {},
   "outputs": [
    {
     "data": {
      "text/plain": [
       "2919"
      ]
     },
     "execution_count": 43,
     "metadata": {},
     "output_type": "execute_result"
    }
   ],
   "source": [
    "base['MSZoning'].shape[0]"
   ]
  },
  {
   "cell_type": "code",
   "execution_count": 63,
   "id": "764be7f9",
   "metadata": {
    "scrolled": true
   },
   "outputs": [],
   "source": [
    "valores_grafico = (base['MSZoning'].value_counts()/base['MSZoning'].shape[0]*100).apply(lambda x: math.ceil(x)).to_dict()"
   ]
  },
  {
   "cell_type": "code",
   "execution_count": 64,
   "id": "6de97d54",
   "metadata": {},
   "outputs": [
    {
     "data": {
      "text/plain": [
       "{'RL': 78, 'RM': 16, 'FV': 5, 'RH': 1, 'C (all)': 1}"
      ]
     },
     "execution_count": 64,
     "metadata": {},
     "output_type": "execute_result"
    }
   ],
   "source": [
    "valores_grafico"
   ]
  },
  {
   "cell_type": "code",
   "execution_count": 65,
   "id": "5c960ef1",
   "metadata": {},
   "outputs": [],
   "source": [
    "# compensar para o gráfico ficar mais bonito\n",
    "valores_grafico['RL']=valores_grafico['RL']-1"
   ]
  },
  {
   "cell_type": "code",
   "execution_count": 75,
   "id": "a157b6e6",
   "metadata": {},
   "outputs": [
    {
     "data": {
      "image/png": "[encoded data removed]",
      "text/plain": [
       "<Waffle size 864x576 with 1 Axes>"
      ]
     },
     "metadata": {
      "needs_background": "light"
     },
     "output_type": "display_data"
    }
   ],
   "source": [
    "fig = plt.figure(\n",
    "    FigureClass=Waffle, \n",
    "    rows=5, \n",
    "    values=valores_grafico, \n",
    "    cmap_name=\"tab10\",\n",
    "    legend={'loc': 'upper left', 'bbox_to_anchor': (1, 1)},\n",
    "    icons='home', \n",
    "    font_size=30, \n",
    "    icon_legend=True,\n",
    "    figsize=(12, 8)\n",
    ")\n",
    "plt.title('Distribuição dos dados MSZoning')\n",
    "plt.show()"
   ]
  },
  {
   "cell_type": "code",
   "execution_count": 78,
   "id": "e45cf3b2",
   "metadata": {},
   "outputs": [],
   "source": [
    "valores_grafico2 = (base['HeatingQC'].value_counts()/base['HeatingQC'].shape[0]*100).apply(lambda x: math.ceil(x)).to_dict()"
   ]
  },
  {
   "cell_type": "code",
   "execution_count": 80,
   "id": "49655431",
   "metadata": {},
   "outputs": [
    {
     "data": {
      "text/plain": [
       "{'Ex': 52, 'TA': 30, 'Gd': 17, 'Fa': 4, 'Po': 1}"
      ]
     },
     "execution_count": 80,
     "metadata": {},
     "output_type": "execute_result"
    }
   ],
   "source": [
    "valores_grafico2"
   ]
  },
  {
   "cell_type": "code",
   "execution_count": 83,
   "id": "c455d7ed",
   "metadata": {},
   "outputs": [],
   "source": [
    "# compensar para o gráfico ficar maos bonito\n",
    "valores_grafico2['Ex']=valores_grafico2['Ex']+1"
   ]
  },
  {
   "cell_type": "code",
   "execution_count": 84,
   "id": "c281fdce",
   "metadata": {},
   "outputs": [
    {
     "data": {
      "image/png": "[encoded data removed]",
      "text/plain": [
       "<Waffle size 864x576 with 1 Axes>"
      ]
     },
     "metadata": {
      "needs_background": "light"
     },
     "output_type": "display_data"
    }
   ],
   "source": [
    "fig = plt.figure(\n",
    "    FigureClass=Waffle, \n",
    "    rows=5, \n",
    "    values=valores_grafico2, \n",
    "    cmap_name=\"tab10\",\n",
    "    legend={'loc': 'upper left', 'bbox_to_anchor': (1, 1)},\n",
    "    icons='home', \n",
    "    font_size=30, \n",
    "    icon_legend=True,\n",
    "    figsize=(12, 8)\n",
    ")\n",
    "plt.title('Distribuição dos dados HeatingQC')\n",
    "plt.show()"
   ]
  },
  {
   "cell_type": "markdown",
   "id": "e37b3a29",
   "metadata": {},
   "source": [
    "## Usando one-hot encoding para quantificar os dados qualitativos"
   ]
  },
  {
   "cell_type": "code",
   "execution_count": 9,
   "id": "490bcf0f",
   "metadata": {},
   "outputs": [],
   "source": [
    "dummy_MSZoning = pd.get_dummies(base['MSZoning'])\n",
    "dummy_HeatingQC = pd.get_dummies(base['HeatingQC'])\n",
    "base_dummy = base.merge(dummy_MSZoning,left_index=True,right_index=True)\n",
    "base_dummy = base_dummy.merge(dummy_HeatingQC,left_index=True,right_index=True)"
   ]
  },
  {
   "cell_type": "code",
   "execution_count": 10,
   "id": "adca0087",
   "metadata": {
    "scrolled": false
   },
   "outputs": [
    {
     "data": {
      "text/html": [
       "<div>\n",
       "<style scoped>\n",
       "    .dataframe tbody tr th:only-of-type {\n",
       "        vertical-align: middle;\n",
       "    }\n",
       "\n",
       "    .dataframe tbody tr th {\n",
       "        vertical-align: top;\n",
       "    }\n",
       "\n",
       "    .dataframe thead th {\n",
       "        text-align: right;\n",
       "    }\n",
       "</style>\n",
       "<table border=\"1\" class=\"dataframe\">\n",
       "  <thead>\n",
       "    <tr style=\"text-align: right;\">\n",
       "      <th></th>\n",
       "      <th>SalePrice</th>\n",
       "      <th>BedroomAbvGr</th>\n",
       "      <th>GarageArea</th>\n",
       "      <th>YrSold - YearBuilt</th>\n",
       "      <th>C (all)</th>\n",
       "      <th>FV</th>\n",
       "      <th>RH</th>\n",
       "      <th>RL</th>\n",
       "      <th>RM</th>\n",
       "      <th>Ex</th>\n",
       "      <th>Fa</th>\n",
       "      <th>Gd</th>\n",
       "      <th>Po</th>\n",
       "      <th>TA</th>\n",
       "    </tr>\n",
       "  </thead>\n",
       "  <tbody>\n",
       "    <tr>\n",
       "      <th>SalePrice</th>\n",
       "      <td>1.000000</td>\n",
       "      <td>0.229611</td>\n",
       "      <td>0.464809</td>\n",
       "      <td>-0.363226</td>\n",
       "      <td>-0.075810</td>\n",
       "      <td>0.035770</td>\n",
       "      <td>-0.054856</td>\n",
       "      <td>0.210173</td>\n",
       "      <td>-0.230235</td>\n",
       "      <td>0.305709</td>\n",
       "      <td>-0.093934</td>\n",
       "      <td>-0.099081</td>\n",
       "      <td>-0.017271</td>\n",
       "      <td>-0.218063</td>\n",
       "    </tr>\n",
       "    <tr>\n",
       "      <th>BedroomAbvGr</th>\n",
       "      <td>0.229611</td>\n",
       "      <td>1.000000</td>\n",
       "      <td>0.073912</td>\n",
       "      <td>0.052136</td>\n",
       "      <td>-0.042963</td>\n",
       "      <td>-0.087169</td>\n",
       "      <td>0.024975</td>\n",
       "      <td>0.137434</td>\n",
       "      <td>-0.100253</td>\n",
       "      <td>-0.011929</td>\n",
       "      <td>-0.009871</td>\n",
       "      <td>-0.011007</td>\n",
       "      <td>-0.020546</td>\n",
       "      <td>0.027241</td>\n",
       "    </tr>\n",
       "    <tr>\n",
       "      <th>GarageArea</th>\n",
       "      <td>0.464809</td>\n",
       "      <td>0.073912</td>\n",
       "      <td>1.000000</td>\n",
       "      <td>-0.480602</td>\n",
       "      <td>-0.094305</td>\n",
       "      <td>0.113654</td>\n",
       "      <td>-0.046038</td>\n",
       "      <td>0.193937</td>\n",
       "      <td>-0.250265</td>\n",
       "      <td>0.314084</td>\n",
       "      <td>-0.116688</td>\n",
       "      <td>-0.106511</td>\n",
       "      <td>-0.010012</td>\n",
       "      <td>-0.212983</td>\n",
       "    </tr>\n",
       "    <tr>\n",
       "      <th>YrSold - YearBuilt</th>\n",
       "      <td>-0.363226</td>\n",
       "      <td>0.052136</td>\n",
       "      <td>-0.480602</td>\n",
       "      <td>1.000000</td>\n",
       "      <td>0.155790</td>\n",
       "      <td>-0.240404</td>\n",
       "      <td>0.058366</td>\n",
       "      <td>-0.290233</td>\n",
       "      <td>0.412859</td>\n",
       "      <td>-0.459562</td>\n",
       "      <td>0.173118</td>\n",
       "      <td>0.160922</td>\n",
       "      <td>0.033332</td>\n",
       "      <td>0.305349</td>\n",
       "    </tr>\n",
       "    <tr>\n",
       "      <th>C (all)</th>\n",
       "      <td>-0.075810</td>\n",
       "      <td>-0.042963</td>\n",
       "      <td>-0.094305</td>\n",
       "      <td>0.155790</td>\n",
       "      <td>1.000000</td>\n",
       "      <td>-0.020783</td>\n",
       "      <td>-0.008811</td>\n",
       "      <td>-0.172968</td>\n",
       "      <td>-0.040199</td>\n",
       "      <td>-0.057915</td>\n",
       "      <td>0.068350</td>\n",
       "      <td>-0.000601</td>\n",
       "      <td>-0.002981</td>\n",
       "      <td>0.038044</td>\n",
       "    </tr>\n",
       "    <tr>\n",
       "      <th>FV</th>\n",
       "      <td>0.035770</td>\n",
       "      <td>-0.087169</td>\n",
       "      <td>0.113654</td>\n",
       "      <td>-0.240404</td>\n",
       "      <td>-0.020783</td>\n",
       "      <td>1.000000</td>\n",
       "      <td>-0.021198</td>\n",
       "      <td>-0.416131</td>\n",
       "      <td>-0.096713</td>\n",
       "      <td>0.192786</td>\n",
       "      <td>-0.040338</td>\n",
       "      <td>-0.063559</td>\n",
       "      <td>-0.007172</td>\n",
       "      <td>-0.144155</td>\n",
       "    </tr>\n",
       "    <tr>\n",
       "      <th>RH</th>\n",
       "      <td>-0.054856</td>\n",
       "      <td>0.024975</td>\n",
       "      <td>-0.046038</td>\n",
       "      <td>0.058366</td>\n",
       "      <td>-0.008811</td>\n",
       "      <td>-0.021198</td>\n",
       "      <td>1.000000</td>\n",
       "      <td>-0.176424</td>\n",
       "      <td>-0.041003</td>\n",
       "      <td>-0.031354</td>\n",
       "      <td>-0.017102</td>\n",
       "      <td>-0.002195</td>\n",
       "      <td>-0.003041</td>\n",
       "      <td>0.042967</td>\n",
       "    </tr>\n",
       "    <tr>\n",
       "      <th>RL</th>\n",
       "      <td>0.210173</td>\n",
       "      <td>0.137434</td>\n",
       "      <td>0.193937</td>\n",
       "      <td>-0.290233</td>\n",
       "      <td>-0.172968</td>\n",
       "      <td>-0.416131</td>\n",
       "      <td>-0.176424</td>\n",
       "      <td>1.000000</td>\n",
       "      <td>-0.804905</td>\n",
       "      <td>0.056717</td>\n",
       "      <td>-0.030039</td>\n",
       "      <td>-0.048568</td>\n",
       "      <td>-0.059691</td>\n",
       "      <td>-0.007198</td>\n",
       "    </tr>\n",
       "    <tr>\n",
       "      <th>RM</th>\n",
       "      <td>-0.230235</td>\n",
       "      <td>-0.100253</td>\n",
       "      <td>-0.250265</td>\n",
       "      <td>0.412859</td>\n",
       "      <td>-0.040199</td>\n",
       "      <td>-0.096713</td>\n",
       "      <td>-0.041003</td>\n",
       "      <td>-0.804905</td>\n",
       "      <td>1.000000</td>\n",
       "      <td>-0.152885</td>\n",
       "      <td>0.045755</td>\n",
       "      <td>0.095103</td>\n",
       "      <td>0.044815</td>\n",
       "      <td>0.070088</td>\n",
       "    </tr>\n",
       "    <tr>\n",
       "      <th>Ex</th>\n",
       "      <td>0.305709</td>\n",
       "      <td>-0.011929</td>\n",
       "      <td>0.314084</td>\n",
       "      <td>-0.459562</td>\n",
       "      <td>-0.057915</td>\n",
       "      <td>0.192786</td>\n",
       "      <td>-0.031354</td>\n",
       "      <td>0.056717</td>\n",
       "      <td>-0.152885</td>\n",
       "      <td>1.000000</td>\n",
       "      <td>-0.184587</td>\n",
       "      <td>-0.450526</td>\n",
       "      <td>-0.032820</td>\n",
       "      <td>-0.659654</td>\n",
       "    </tr>\n",
       "    <tr>\n",
       "      <th>Fa</th>\n",
       "      <td>-0.093934</td>\n",
       "      <td>-0.009871</td>\n",
       "      <td>-0.116688</td>\n",
       "      <td>0.173118</td>\n",
       "      <td>0.068350</td>\n",
       "      <td>-0.040338</td>\n",
       "      <td>-0.017102</td>\n",
       "      <td>-0.030039</td>\n",
       "      <td>0.045755</td>\n",
       "      <td>-0.184587</td>\n",
       "      <td>1.000000</td>\n",
       "      <td>-0.079429</td>\n",
       "      <td>-0.005786</td>\n",
       "      <td>-0.116299</td>\n",
       "    </tr>\n",
       "    <tr>\n",
       "      <th>Gd</th>\n",
       "      <td>-0.099081</td>\n",
       "      <td>-0.011007</td>\n",
       "      <td>-0.106511</td>\n",
       "      <td>0.160922</td>\n",
       "      <td>-0.000601</td>\n",
       "      <td>-0.063559</td>\n",
       "      <td>-0.002195</td>\n",
       "      <td>-0.048568</td>\n",
       "      <td>0.095103</td>\n",
       "      <td>-0.450526</td>\n",
       "      <td>-0.079429</td>\n",
       "      <td>1.000000</td>\n",
       "      <td>-0.014123</td>\n",
       "      <td>-0.283855</td>\n",
       "    </tr>\n",
       "    <tr>\n",
       "      <th>Po</th>\n",
       "      <td>-0.017271</td>\n",
       "      <td>-0.020546</td>\n",
       "      <td>-0.010012</td>\n",
       "      <td>0.033332</td>\n",
       "      <td>-0.002981</td>\n",
       "      <td>-0.007172</td>\n",
       "      <td>-0.003041</td>\n",
       "      <td>-0.059691</td>\n",
       "      <td>0.044815</td>\n",
       "      <td>-0.032820</td>\n",
       "      <td>-0.005786</td>\n",
       "      <td>-0.014123</td>\n",
       "      <td>1.000000</td>\n",
       "      <td>-0.020678</td>\n",
       "    </tr>\n",
       "    <tr>\n",
       "      <th>TA</th>\n",
       "      <td>-0.218063</td>\n",
       "      <td>0.027241</td>\n",
       "      <td>-0.212983</td>\n",
       "      <td>0.305349</td>\n",
       "      <td>0.038044</td>\n",
       "      <td>-0.144155</td>\n",
       "      <td>0.042967</td>\n",
       "      <td>-0.007198</td>\n",
       "      <td>0.070088</td>\n",
       "      <td>-0.659654</td>\n",
       "      <td>-0.116299</td>\n",
       "      <td>-0.283855</td>\n",
       "      <td>-0.020678</td>\n",
       "      <td>1.000000</td>\n",
       "    </tr>\n",
       "  </tbody>\n",
       "</table>\n",
       "</div>"
      ],
      "text/plain": [
       "                    SalePrice  BedroomAbvGr  GarageArea  YrSold - YearBuilt  \\\n",
       "SalePrice            1.000000      0.229611    0.464809           -0.363226   \n",
       "BedroomAbvGr         0.229611      1.000000    0.073912            0.052136   \n",
       "GarageArea           0.464809      0.073912    1.000000           -0.480602   \n",
       "YrSold - YearBuilt  -0.363226      0.052136   -0.480602            1.000000   \n",
       "C (all)             -0.075810     -0.042963   -0.094305            0.155790   \n",
       "FV                   0.035770     -0.087169    0.113654           -0.240404   \n",
       "RH                  -0.054856      0.024975   -0.046038            0.058366   \n",
       "RL                   0.210173      0.137434    0.193937           -0.290233   \n",
       "RM                  -0.230235     -0.100253   -0.250265            0.412859   \n",
       "Ex                   0.305709     -0.011929    0.314084           -0.459562   \n",
       "Fa                  -0.093934     -0.009871   -0.116688            0.173118   \n",
       "Gd                  -0.099081     -0.011007   -0.106511            0.160922   \n",
       "Po                  -0.017271     -0.020546   -0.010012            0.033332   \n",
       "TA                  -0.218063      0.027241   -0.212983            0.305349   \n",
       "\n",
       "                     C (all)        FV        RH        RL        RM  \\\n",
       "SalePrice          -0.075810  0.035770 -0.054856  0.210173 -0.230235   \n",
       "BedroomAbvGr       -0.042963 -0.087169  0.024975  0.137434 -0.100253   \n",
       "GarageArea         -0.094305  0.113654 -0.046038  0.193937 -0.250265   \n",
       "YrSold - YearBuilt  0.155790 -0.240404  0.058366 -0.290233  0.412859   \n",
       "C (all)             1.000000 -0.020783 -0.008811 -0.172968 -0.040199   \n",
       "FV                 -0.020783  1.000000 -0.021198 -0.416131 -0.096713   \n",
       "RH                 -0.008811 -0.021198  1.000000 -0.176424 -0.041003   \n",
       "RL                 -0.172968 -0.416131 -0.176424  1.000000 -0.804905   \n",
       "RM                 -0.040199 -0.096713 -0.041003 -0.804905  1.000000   \n",
       "Ex                 -0.057915  0.192786 -0.031354  0.056717 -0.152885   \n",
       "Fa                  0.068350 -0.040338 -0.017102 -0.030039  0.045755   \n",
       "Gd                 -0.000601 -0.063559 -0.002195 -0.048568  0.095103   \n",
       "Po                 -0.002981 -0.007172 -0.003041 -0.059691  0.044815   \n",
       "TA                  0.038044 -0.144155  0.042967 -0.007198  0.070088   \n",
       "\n",
       "                          Ex        Fa        Gd        Po        TA  \n",
       "SalePrice           0.305709 -0.093934 -0.099081 -0.017271 -0.218063  \n",
       "BedroomAbvGr       -0.011929 -0.009871 -0.011007 -0.020546  0.027241  \n",
       "GarageArea          0.314084 -0.116688 -0.106511 -0.010012 -0.212983  \n",
       "YrSold - YearBuilt -0.459562  0.173118  0.160922  0.033332  0.305349  \n",
       "C (all)            -0.057915  0.068350 -0.000601 -0.002981  0.038044  \n",
       "FV                  0.192786 -0.040338 -0.063559 -0.007172 -0.144155  \n",
       "RH                 -0.031354 -0.017102 -0.002195 -0.003041  0.042967  \n",
       "RL                  0.056717 -0.030039 -0.048568 -0.059691 -0.007198  \n",
       "RM                 -0.152885  0.045755  0.095103  0.044815  0.070088  \n",
       "Ex                  1.000000 -0.184587 -0.450526 -0.032820 -0.659654  \n",
       "Fa                 -0.184587  1.000000 -0.079429 -0.005786 -0.116299  \n",
       "Gd                 -0.450526 -0.079429  1.000000 -0.014123 -0.283855  \n",
       "Po                 -0.032820 -0.005786 -0.014123  1.000000 -0.020678  \n",
       "TA                 -0.659654 -0.116299 -0.283855 -0.020678  1.000000  "
      ]
     },
     "execution_count": 10,
     "metadata": {},
     "output_type": "execute_result"
    }
   ],
   "source": [
    "base_dummy.corr()"
   ]
  },
  {
   "cell_type": "code",
   "execution_count": 12,
   "id": "3d2ce7ae",
   "metadata": {},
   "outputs": [
    {
     "data": {
      "image/png": "[encoded data removed]",
      "text/plain": [
       "<Figure size 792x648 with 2 Axes>"
      ]
     },
     "metadata": {
      "needs_background": "light"
     },
     "output_type": "display_data"
    }
   ],
   "source": [
    "# Compute the correlation matrix\n",
    "corr = base_dummy.corr()\n",
    "\n",
    "# Generate a mask for the upper triangle\n",
    "mask = np.triu(np.ones_like(corr, dtype=bool))\n",
    "\n",
    "# Set up the matplotlib figure\n",
    "f, ax = plt.subplots(figsize=(11, 9))\n",
    "\n",
    "# Generate a custom diverging colormap\n",
    "cmap = sns.diverging_palette(230, 20, as_cmap=True)\n",
    "\n",
    "# Draw the heatmap with the mask and correct aspect ratio\n",
    "sns.heatmap(corr, mask=mask, cmap=cmap, vmax=.3, center=0,\n",
    "            square=True, linewidths=.5, cbar_kws={\"shrink\": .5})\n",
    "plt.title('Matriz de correlação')\n",
    "plt.show()"
   ]
  },
  {
   "cell_type": "code",
   "execution_count": null,
   "id": "d88f7bad",
   "metadata": {},
   "outputs": [],
   "source": []
  },
  {
   "cell_type": "code",
   "execution_count": null,
   "id": "0878aa35",
   "metadata": {},
   "outputs": [],
   "source": []
  }
 ],
 "metadata": {
  "kernelspec": {
   "display_name": "Python 3.9.6 64-bit",
   "language": "python",
   "name": "python396jvsc74a57bd0b0fa6594d8f4cbf19f97940f81e996739fb7646882a419484c72d19e05852a7e"
  },
  "language_info": {
   "codemirror_mode": {
    "name": "ipython",
    "version": 3
   },
   "file_extension": ".py",
   "mimetype": "text/x-python",
   "name": "python",
   "nbconvert_exporter": "python",
   "pygments_lexer": "ipython3",
   "version": "3.9.6"
  }
 },
 "nbformat": 4,
 "nbformat_minor": 5
}
